{
 "cells": [
  {
   "cell_type": "markdown",
   "metadata": {},
   "source": [
    "# NBA Hackathon Business Question\n",
    "### By: Ford Higgins\n",
    "This question required fewer self-written functions thanks to pre-existing packages, but still allowed for creativity with the model-building decisions. I utilized a basic linear regression, a random forest regressor, and a LightGBM regressor for my models and evaluated each of them with MAPE. The random forest was also evaluated with the help of Terence Parr's (one of my professors) `rfpimp` package. I mostly tried features relating to the date of the game and team/player quality. "
   ]
  },
  {
   "cell_type": "code",
   "execution_count": 1,
   "metadata": {},
   "outputs": [],
   "source": [
    "import lightgbm as lgb\n",
    "import matplotlib.pyplot as plt\n",
    "import numpy as np\n",
    "import pandas as pd\n",
    "import rfpimp\n",
    "\n",
    "from datetime import datetime\n",
    "from pandas.tseries.holiday import USFederalHolidayCalendar\n",
    "from sklearn.linear_model import LinearRegression, Ridge\n",
    "from sklearn.model_selection import train_test_split\n",
    "from sklearn.ensemble import RandomForestRegressor\n",
    "from sklearn.preprocessing import LabelEncoder"
   ]
  },
  {
   "cell_type": "code",
   "execution_count": 2,
   "metadata": {},
   "outputs": [],
   "source": [
    "#https://stats.stackexchange.com/questions/58391/mean-absolute-percentage-error-mape-in-scikit-learn/62511#62511\n",
    "def mean_absolute_percentage_error(y_true, y_pred): \n",
    "    y_true, y_pred = np.array(y_true), np.array(y_pred)\n",
    "    return np.mean(np.abs((y_true - y_pred) / y_true)) * 100"
   ]
  },
  {
   "cell_type": "code",
   "execution_count": 3,
   "metadata": {},
   "outputs": [],
   "source": [
    "game_data = pd.read_csv('game_data.csv')\n",
    "player_data = pd.read_csv('player_data.csv')\n",
    "train = pd.read_csv('training_set.csv').rename(columns={'Rounded Viewers': 'Rounded_Viewers'}) # this was annoying me\n",
    "test = pd.read_csv('test_set.csv')"
   ]
  },
  {
   "cell_type": "code",
   "execution_count": 4,
   "metadata": {},
   "outputs": [
    {
     "data": {
      "text/html": [
       "<div>\n",
       "<style scoped>\n",
       "    .dataframe tbody tr th:only-of-type {\n",
       "        vertical-align: middle;\n",
       "    }\n",
       "\n",
       "    .dataframe tbody tr th {\n",
       "        vertical-align: top;\n",
       "    }\n",
       "\n",
       "    .dataframe thead th {\n",
       "        text-align: right;\n",
       "    }\n",
       "</style>\n",
       "<table border=\"1\" class=\"dataframe\">\n",
       "  <thead>\n",
       "    <tr style=\"text-align: right;\">\n",
       "      <th></th>\n",
       "      <th>Season</th>\n",
       "      <th>Game_ID</th>\n",
       "      <th>Game_Date</th>\n",
       "      <th>Away_Team</th>\n",
       "      <th>Home_Team</th>\n",
       "      <th>Country</th>\n",
       "      <th>Rounded_Viewers</th>\n",
       "    </tr>\n",
       "  </thead>\n",
       "  <tbody>\n",
       "    <tr>\n",
       "      <th>0</th>\n",
       "      <td>2016-17</td>\n",
       "      <td>21600001</td>\n",
       "      <td>10/25/2016</td>\n",
       "      <td>NYK</td>\n",
       "      <td>CLE</td>\n",
       "      <td>C113</td>\n",
       "      <td>18</td>\n",
       "    </tr>\n",
       "    <tr>\n",
       "      <th>1</th>\n",
       "      <td>2016-17</td>\n",
       "      <td>21600001</td>\n",
       "      <td>10/25/2016</td>\n",
       "      <td>NYK</td>\n",
       "      <td>CLE</td>\n",
       "      <td>C193</td>\n",
       "      <td>1</td>\n",
       "    </tr>\n",
       "    <tr>\n",
       "      <th>2</th>\n",
       "      <td>2016-17</td>\n",
       "      <td>21600001</td>\n",
       "      <td>10/25/2016</td>\n",
       "      <td>NYK</td>\n",
       "      <td>CLE</td>\n",
       "      <td>C126</td>\n",
       "      <td>4</td>\n",
       "    </tr>\n",
       "    <tr>\n",
       "      <th>3</th>\n",
       "      <td>2016-17</td>\n",
       "      <td>21600001</td>\n",
       "      <td>10/25/2016</td>\n",
       "      <td>NYK</td>\n",
       "      <td>CLE</td>\n",
       "      <td>C163</td>\n",
       "      <td>11</td>\n",
       "    </tr>\n",
       "    <tr>\n",
       "      <th>4</th>\n",
       "      <td>2016-17</td>\n",
       "      <td>21600001</td>\n",
       "      <td>10/25/2016</td>\n",
       "      <td>NYK</td>\n",
       "      <td>CLE</td>\n",
       "      <td>C73</td>\n",
       "      <td>3</td>\n",
       "    </tr>\n",
       "  </tbody>\n",
       "</table>\n",
       "</div>"
      ],
      "text/plain": [
       "    Season   Game_ID   Game_Date Away_Team Home_Team Country  Rounded_Viewers\n",
       "0  2016-17  21600001  10/25/2016       NYK       CLE    C113               18\n",
       "1  2016-17  21600001  10/25/2016       NYK       CLE    C193                1\n",
       "2  2016-17  21600001  10/25/2016       NYK       CLE    C126                4\n",
       "3  2016-17  21600001  10/25/2016       NYK       CLE    C163               11\n",
       "4  2016-17  21600001  10/25/2016       NYK       CLE     C73                3"
      ]
     },
     "execution_count": 4,
     "metadata": {},
     "output_type": "execute_result"
    }
   ],
   "source": [
    "train.head()"
   ]
  },
  {
   "cell_type": "code",
   "execution_count": 5,
   "metadata": {},
   "outputs": [
    {
     "data": {
      "text/plain": [
       "<matplotlib.axes._subplots.AxesSubplot at 0x1a1af73438>"
      ]
     },
     "execution_count": 5,
     "metadata": {},
     "output_type": "execute_result"
    },
    {
     "data": {
      "image/png": "[encoded data removed]",
      "text/plain": [
       "<Figure size 432x288 with 1 Axes>"
      ]
     },
     "metadata": {},
     "output_type": "display_data"
    }
   ],
   "source": [
    "train_country_pcts = train.groupby('Country')['Rounded_Viewers'].mean().sort_values(ascending = False).cumsum()\\\n",
    "            /train.groupby('Country')['Rounded_Viewers'].mean().sum()\n",
    "\n",
    "train_country_pcts.plot()"
   ]
  },
  {
   "cell_type": "code",
   "execution_count": 6,
   "metadata": {},
   "outputs": [
    {
     "data": {
      "text/plain": [
       "34"
      ]
     },
     "execution_count": 6,
     "metadata": {},
     "output_type": "execute_result"
    }
   ],
   "source": [
    "(train_country_pcts < 0.9).sum() # keep the top 34 countries"
   ]
  },
  {
   "cell_type": "code",
   "execution_count": 7,
   "metadata": {},
   "outputs": [],
   "source": [
    "keep_countries = train_country_pcts[train_country_pcts < 0.9].index.tolist()\n",
    "\n",
    "train_v2 = train[train.Country.isin(keep_countries)]\n",
    "total_viewers_keep = train_v2.groupby('Game_ID').sum().reset_index()\n",
    "#train_v2.groupby('Game_ID').sum().reset_index()\n",
    "train_v2 = train_v2[['Season', 'Game_ID', 'Game_Date',\n",
    "                     'Away_Team', 'Home_Team']].drop_duplicates(keep = 'first').reset_index(drop=True).merge(total_viewers_keep, \n",
    "                                                                                                             on = 'Game_ID')"
   ]
  },
  {
   "cell_type": "code",
   "execution_count": 8,
   "metadata": {},
   "outputs": [],
   "source": [
    "cal = USFederalHolidayCalendar()\n",
    "nba_holidays = cal.holidays(start='2016-10-01', end='2018-05-01') # add any?\n",
    "\n",
    "# adding in these dates makes it worse\n",
    "# other_dates = ['2016-10-25', '2016-10-26', '2017-10-17', '2017-10-18',\n",
    "#                '2017-04-11', '2017-04-12', '2018-04-10', '2018-04-11',\n",
    "#               '2016-12-25']\n",
    "\n",
    "# for x in pd.to_datetime(other_dates):\n",
    "#     nba_holidays = nba_holidays.insert(-1, x)\n",
    "\n",
    "# replacing observed Christmas with actual Christmas\n",
    "nba_holidays = nba_holidays.insert(-1, pd.to_datetime('2016-12-25'))\n",
    "nba_holidays = nba_holidays.drop(pd.to_datetime(['2016-12-26']))"
   ]
  },
  {
   "cell_type": "code",
   "execution_count": 9,
   "metadata": {},
   "outputs": [],
   "source": [
    "train_v2.Game_Date = pd.to_datetime(train_v2.Game_Date)\n",
    "train_v2['dayofweek'] = train_v2.Game_Date.dt.dayofweek\n",
    "train_v2['is_weekend'] = train_v2.dayofweek.apply(lambda x: 1 if x >= 4 else 0)\n",
    "train_v2['month'] = train_v2.Game_Date.dt.month\n",
    "train_v2['day'] = train_v2.Game_Date.dt.day\n",
    "train_v2['is_holiday'] = train_v2.Game_Date.isin(nba_holidays)\n",
    "train_v2.Season = train_v2.Season.apply(lambda x: 0 if x == '2016-17' else 1)\n",
    "# how to get opening day/week? add to holidays?"
   ]
  },
  {
   "cell_type": "code",
   "execution_count": 10,
   "metadata": {},
   "outputs": [
    {
     "data": {
      "text/html": [
       "<div>\n",
       "<style scoped>\n",
       "    .dataframe tbody tr th:only-of-type {\n",
       "        vertical-align: middle;\n",
       "    }\n",
       "\n",
       "    .dataframe tbody tr th {\n",
       "        vertical-align: top;\n",
       "    }\n",
       "\n",
       "    .dataframe thead th {\n",
       "        text-align: right;\n",
       "    }\n",
       "</style>\n",
       "<table border=\"1\" class=\"dataframe\">\n",
       "  <thead>\n",
       "    <tr style=\"text-align: right;\">\n",
       "      <th></th>\n",
       "      <th>Season</th>\n",
       "      <th>Game_ID</th>\n",
       "      <th>Game_Date</th>\n",
       "      <th>Away_Team</th>\n",
       "      <th>Home_Team</th>\n",
       "      <th>Total_Viewers</th>\n",
       "    </tr>\n",
       "  </thead>\n",
       "  <tbody>\n",
       "    <tr>\n",
       "      <th>0</th>\n",
       "      <td>2016-17</td>\n",
       "      <td>21600010</td>\n",
       "      <td>10/26/2016</td>\n",
       "      <td>DEN</td>\n",
       "      <td>NOP</td>\n",
       "      <td>NaN</td>\n",
       "    </tr>\n",
       "    <tr>\n",
       "      <th>1</th>\n",
       "      <td>2016-17</td>\n",
       "      <td>21600023</td>\n",
       "      <td>10/28/2016</td>\n",
       "      <td>HOU</td>\n",
       "      <td>DAL</td>\n",
       "      <td>NaN</td>\n",
       "    </tr>\n",
       "    <tr>\n",
       "      <th>2</th>\n",
       "      <td>2016-17</td>\n",
       "      <td>21600027</td>\n",
       "      <td>10/29/2016</td>\n",
       "      <td>BOS</td>\n",
       "      <td>CHA</td>\n",
       "      <td>NaN</td>\n",
       "    </tr>\n",
       "    <tr>\n",
       "      <th>3</th>\n",
       "      <td>2016-17</td>\n",
       "      <td>21600026</td>\n",
       "      <td>10/29/2016</td>\n",
       "      <td>ATL</td>\n",
       "      <td>PHI</td>\n",
       "      <td>NaN</td>\n",
       "    </tr>\n",
       "    <tr>\n",
       "      <th>4</th>\n",
       "      <td>2016-17</td>\n",
       "      <td>21600048</td>\n",
       "      <td>11/1/2016</td>\n",
       "      <td>LAL</td>\n",
       "      <td>IND</td>\n",
       "      <td>NaN</td>\n",
       "    </tr>\n",
       "  </tbody>\n",
       "</table>\n",
       "</div>"
      ],
      "text/plain": [
       "    Season   Game_ID   Game_Date Away_Team Home_Team  Total_Viewers\n",
       "0  2016-17  21600010  10/26/2016       DEN       NOP            NaN\n",
       "1  2016-17  21600023  10/28/2016       HOU       DAL            NaN\n",
       "2  2016-17  21600027  10/29/2016       BOS       CHA            NaN\n",
       "3  2016-17  21600026  10/29/2016       ATL       PHI            NaN\n",
       "4  2016-17  21600048   11/1/2016       LAL       IND            NaN"
      ]
     },
     "execution_count": 10,
     "metadata": {},
     "output_type": "execute_result"
    }
   ],
   "source": [
    "test.head()"
   ]
  },
  {
   "cell_type": "code",
   "execution_count": 11,
   "metadata": {},
   "outputs": [
    {
     "data": {
      "text/plain": [
       "(460, 6)"
      ]
     },
     "execution_count": 11,
     "metadata": {},
     "output_type": "execute_result"
    }
   ],
   "source": [
    "test.shape"
   ]
  },
  {
   "cell_type": "markdown",
   "metadata": {},
   "source": [
    "**Features to consider:**\n",
    "- create a validation set from the training set\n",
    "- countries: aggregating across countries. are some of them responsible for most of the viewers? only take viewers from the biggest ones?\n",
    "    - don't have the same level of detail in the test set, so might not be useful\n",
    "- game_date: is_weekend (Fri, Sat, & Sun), month, day in month, is_holiday (specifically Christmas and MLK), \n",
    "    - use circular encoding for some of these?\n",
    "    - before/after ASG and trade deadline?\n",
    "    - end of season\n",
    "    - Thursdays are big nationally televised games\n",
    "- circular encoding for home and away teams? or label encoding?\n",
    "    - treat home and away differently\n",
    "- target encoding for some variables?\n",
    "- how to handle season? ignore it? one-hot it?\n",
    "- win percentage\n",
    "- ties/lead_changes \n",
    "    - *not in test set*\n",
    "- L2M score differential \n",
    "    - *not in test set*\n",
    "- number of all_stars active\n",
    "- triple_double? a lot of threes? 30+ points? 40+ points? 50+ points? \n",
    "    - *not in test set*\n",
    "- end of season and teams close record-wise\n",
    "- number of timeouts used \n",
    "    - *not in test set*\n",
    "- comebacks? \n",
    "    - *not in test set*\n",
    "- number of games that day? preceding day?\n",
    "- arbitrary superstars? top 5 jersey sellers or something? Steph, LBJ, KD, Russ, Giannis? maybe for later\n",
    "\n",
    "\n",
    "Can more or less ignore anything that was recorded as a result of the game being played since this is predictive and not explanatory, and we would need those features in the test set as well for prediction, but they aren't going to be there. "
   ]
  },
  {
   "cell_type": "code",
   "execution_count": 12,
   "metadata": {},
   "outputs": [
    {
     "data": {
      "text/html": [
       "<div>\n",
       "<style scoped>\n",
       "    .dataframe tbody tr th:only-of-type {\n",
       "        vertical-align: middle;\n",
       "    }\n",
       "\n",
       "    .dataframe tbody tr th {\n",
       "        vertical-align: top;\n",
       "    }\n",
       "\n",
       "    .dataframe thead th {\n",
       "        text-align: right;\n",
       "    }\n",
       "</style>\n",
       "<table border=\"1\" class=\"dataframe\">\n",
       "  <thead>\n",
       "    <tr style=\"text-align: right;\">\n",
       "      <th></th>\n",
       "      <th>Season</th>\n",
       "      <th>Game_ID</th>\n",
       "      <th>Game_Date</th>\n",
       "      <th>Team</th>\n",
       "      <th>Location</th>\n",
       "      <th>Wins_Entering_Gm</th>\n",
       "      <th>Losses_Entering_Gm</th>\n",
       "      <th>Team_Minutes</th>\n",
       "      <th>Final_Score</th>\n",
       "      <th>Lead_Changes</th>\n",
       "      <th>Ties</th>\n",
       "      <th>Largest_Lead</th>\n",
       "      <th>Full_Timeouts</th>\n",
       "      <th>Short_Timeouts</th>\n",
       "      <th>Qtr_4_Score</th>\n",
       "      <th>L2M_Score</th>\n",
       "    </tr>\n",
       "  </thead>\n",
       "  <tbody>\n",
       "    <tr>\n",
       "      <th>0</th>\n",
       "      <td>2016-17</td>\n",
       "      <td>21600001</td>\n",
       "      <td>10/25/2016</td>\n",
       "      <td>CLE</td>\n",
       "      <td>H</td>\n",
       "      <td>0</td>\n",
       "      <td>0</td>\n",
       "      <td>240.0</td>\n",
       "      <td>117.0</td>\n",
       "      <td>1.0</td>\n",
       "      <td>3.0</td>\n",
       "      <td>32.0</td>\n",
       "      <td>4.0</td>\n",
       "      <td>1.0</td>\n",
       "      <td>82.0</td>\n",
       "      <td>113.0</td>\n",
       "    </tr>\n",
       "    <tr>\n",
       "      <th>1</th>\n",
       "      <td>2016-17</td>\n",
       "      <td>21600001</td>\n",
       "      <td>10/25/2016</td>\n",
       "      <td>NYK</td>\n",
       "      <td>A</td>\n",
       "      <td>0</td>\n",
       "      <td>0</td>\n",
       "      <td>240.0</td>\n",
       "      <td>88.0</td>\n",
       "      <td>0.0</td>\n",
       "      <td>1.0</td>\n",
       "      <td>4.0</td>\n",
       "      <td>4.0</td>\n",
       "      <td>2.0</td>\n",
       "      <td>64.0</td>\n",
       "      <td>84.0</td>\n",
       "    </tr>\n",
       "    <tr>\n",
       "      <th>2</th>\n",
       "      <td>2016-17</td>\n",
       "      <td>21600002</td>\n",
       "      <td>10/25/2016</td>\n",
       "      <td>POR</td>\n",
       "      <td>H</td>\n",
       "      <td>0</td>\n",
       "      <td>0</td>\n",
       "      <td>240.0</td>\n",
       "      <td>113.0</td>\n",
       "      <td>6.0</td>\n",
       "      <td>6.0</td>\n",
       "      <td>13.0</td>\n",
       "      <td>5.0</td>\n",
       "      <td>0.0</td>\n",
       "      <td>77.0</td>\n",
       "      <td>104.0</td>\n",
       "    </tr>\n",
       "    <tr>\n",
       "      <th>3</th>\n",
       "      <td>2016-17</td>\n",
       "      <td>21600002</td>\n",
       "      <td>10/25/2016</td>\n",
       "      <td>UTA</td>\n",
       "      <td>A</td>\n",
       "      <td>0</td>\n",
       "      <td>0</td>\n",
       "      <td>240.0</td>\n",
       "      <td>104.0</td>\n",
       "      <td>5.0</td>\n",
       "      <td>1.0</td>\n",
       "      <td>8.0</td>\n",
       "      <td>5.0</td>\n",
       "      <td>2.0</td>\n",
       "      <td>83.0</td>\n",
       "      <td>102.0</td>\n",
       "    </tr>\n",
       "    <tr>\n",
       "      <th>4</th>\n",
       "      <td>2016-17</td>\n",
       "      <td>21600003</td>\n",
       "      <td>10/25/2016</td>\n",
       "      <td>GSW</td>\n",
       "      <td>H</td>\n",
       "      <td>0</td>\n",
       "      <td>0</td>\n",
       "      <td>240.0</td>\n",
       "      <td>100.0</td>\n",
       "      <td>1.0</td>\n",
       "      <td>2.0</td>\n",
       "      <td>4.0</td>\n",
       "      <td>3.0</td>\n",
       "      <td>1.0</td>\n",
       "      <td>77.0</td>\n",
       "      <td>100.0</td>\n",
       "    </tr>\n",
       "  </tbody>\n",
       "</table>\n",
       "</div>"
      ],
      "text/plain": [
       "    Season   Game_ID   Game_Date Team Location  Wins_Entering_Gm  \\\n",
       "0  2016-17  21600001  10/25/2016  CLE        H                 0   \n",
       "1  2016-17  21600001  10/25/2016  NYK        A                 0   \n",
       "2  2016-17  21600002  10/25/2016  POR        H                 0   \n",
       "3  2016-17  21600002  10/25/2016  UTA        A                 0   \n",
       "4  2016-17  21600003  10/25/2016  GSW        H                 0   \n",
       "\n",
       "   Losses_Entering_Gm  Team_Minutes  Final_Score  Lead_Changes  Ties  \\\n",
       "0                   0         240.0        117.0           1.0   3.0   \n",
       "1                   0         240.0         88.0           0.0   1.0   \n",
       "2                   0         240.0        113.0           6.0   6.0   \n",
       "3                   0         240.0        104.0           5.0   1.0   \n",
       "4                   0         240.0        100.0           1.0   2.0   \n",
       "\n",
       "   Largest_Lead  Full_Timeouts  Short_Timeouts  Qtr_4_Score  L2M_Score  \n",
       "0          32.0            4.0             1.0         82.0      113.0  \n",
       "1           4.0            4.0             2.0         64.0       84.0  \n",
       "2          13.0            5.0             0.0         77.0      104.0  \n",
       "3           8.0            5.0             2.0         83.0      102.0  \n",
       "4           4.0            3.0             1.0         77.0      100.0  "
      ]
     },
     "execution_count": 12,
     "metadata": {},
     "output_type": "execute_result"
    }
   ],
   "source": [
    "game_data.head()"
   ]
  },
  {
   "cell_type": "code",
   "execution_count": 13,
   "metadata": {},
   "outputs": [],
   "source": [
    "game_data['n_games'] = game_data.apply(lambda x: x.Wins_Entering_Gm + x.Losses_Entering_Gm, axis = 1)\n",
    "game_data['win_pct'] = game_data.apply(lambda x: float(x.Wins_Entering_Gm)/(x.n_games) \n",
    "                                       if (x.n_games) > 0 else 0.5, axis = 1)\n",
    "\n",
    "# game_data['is_ot'] = game_data.Team_Minutes.apply(lambda x: 1 if x > 240 else 0)\n",
    "# game_data['n_timeouts'] = game_data.apply(lambda x: x.Full_Timeouts + x.Short_Timeouts, axis = 1)\n",
    "# game_data['n_ties_changes'] = game_data.apply(lambda x: x.Lead_Changes + x.Ties, axis = 1)\n",
    "\n",
    "game_keep = ['Game_ID', 'Team', 'Location', 'Wins_Entering_Gm', 'Losses_Entering_Gm', 'n_games', 'win_pct']\n",
    "game_v2 = game_data[game_keep]\n",
    "\n",
    "game_v2_flat = game_v2.loc[game_v2.Location == 'H'].merge(game_v2.loc[game_v2.Location == 'A'],\n",
    "                                                          on = 'Game_ID', suffixes = ['_H', '_A'])\n",
    "\n",
    "game_v2_flat['win_diff'] = game_v2_flat.apply(lambda x: x.Wins_Entering_Gm_H - x.Wins_Entering_Gm_A, axis = 1)\n",
    "game_v2_flat['loss_diff'] = game_v2_flat.apply(lambda x: x.Losses_Entering_Gm_H - x.Losses_Entering_Gm_A, axis = 1)\n",
    "game_v2_flat['win_pct_diff'] = game_v2_flat.apply(lambda x: x.win_pct_H - x.win_pct_A, axis = 1)\n",
    "\n",
    "# change ASG to binary variable\n",
    "player_data['is_allstar'] = player_data.ASG_Team.apply(lambda x: 1 if x in ['East ASG', 'West ASG'] else 0)\n",
    "player_data['active_allstars'] = player_data.apply(lambda x: x.is_allstar if x.Active_Status == 'Active' else 0, axis = 1)\n",
    "\n",
    "player_keep = ['Game_ID', 'Team', 'Person_ID', 'Name', 'is_allstar', 'Active_Status', 'active_allstars']\n",
    "player_v2 = player_data[player_keep]\n",
    "\n",
    "n_active_allstars = player_v2.groupby('Game_ID').active_allstars.sum() # should I split this into home and away?\n",
    "n_active_allstars = pd.DataFrame(n_active_allstars).reset_index()\n",
    "\n",
    "train_v3 = train_v2.merge(game_v2_flat, left_on = ['Game_ID', 'Away_Team', 'Home_Team'],\n",
    "               right_on = ['Game_ID', 'Team_A', 'Team_H']).merge(n_active_allstars, on = 'Game_ID')\n",
    "train_v3.drop(['Team_H', 'Team_A', 'Game_ID', 'Game_Date', 'Location_H', 'Location_A'], inplace=True, axis=1)"
   ]
  },
  {
   "cell_type": "code",
   "execution_count": 14,
   "metadata": {},
   "outputs": [
    {
     "data": {
      "text/html": [
       "<div>\n",
       "<style scoped>\n",
       "    .dataframe tbody tr th:only-of-type {\n",
       "        vertical-align: middle;\n",
       "    }\n",
       "\n",
       "    .dataframe tbody tr th {\n",
       "        vertical-align: top;\n",
       "    }\n",
       "\n",
       "    .dataframe thead th {\n",
       "        text-align: right;\n",
       "    }\n",
       "</style>\n",
       "<table border=\"1\" class=\"dataframe\">\n",
       "  <thead>\n",
       "    <tr style=\"text-align: right;\">\n",
       "      <th></th>\n",
       "      <th>Season</th>\n",
       "      <th>Away_Team</th>\n",
       "      <th>Home_Team</th>\n",
       "      <th>Rounded_Viewers</th>\n",
       "      <th>dayofweek</th>\n",
       "      <th>is_weekend</th>\n",
       "      <th>month</th>\n",
       "      <th>day</th>\n",
       "      <th>is_holiday</th>\n",
       "      <th>Wins_Entering_Gm_H</th>\n",
       "      <th>...</th>\n",
       "      <th>n_games_H</th>\n",
       "      <th>win_pct_H</th>\n",
       "      <th>Wins_Entering_Gm_A</th>\n",
       "      <th>Losses_Entering_Gm_A</th>\n",
       "      <th>n_games_A</th>\n",
       "      <th>win_pct_A</th>\n",
       "      <th>win_diff</th>\n",
       "      <th>loss_diff</th>\n",
       "      <th>win_pct_diff</th>\n",
       "      <th>active_allstars</th>\n",
       "    </tr>\n",
       "  </thead>\n",
       "  <tbody>\n",
       "    <tr>\n",
       "      <th>0</th>\n",
       "      <td>0</td>\n",
       "      <td>NYK</td>\n",
       "      <td>CLE</td>\n",
       "      <td>51251</td>\n",
       "      <td>1</td>\n",
       "      <td>0</td>\n",
       "      <td>10</td>\n",
       "      <td>25</td>\n",
       "      <td>False</td>\n",
       "      <td>0</td>\n",
       "      <td>...</td>\n",
       "      <td>0</td>\n",
       "      <td>0.5</td>\n",
       "      <td>0</td>\n",
       "      <td>0</td>\n",
       "      <td>0</td>\n",
       "      <td>0.5</td>\n",
       "      <td>0</td>\n",
       "      <td>0</td>\n",
       "      <td>0.0</td>\n",
       "      <td>4</td>\n",
       "    </tr>\n",
       "    <tr>\n",
       "      <th>1</th>\n",
       "      <td>0</td>\n",
       "      <td>SAS</td>\n",
       "      <td>GSW</td>\n",
       "      <td>53525</td>\n",
       "      <td>1</td>\n",
       "      <td>0</td>\n",
       "      <td>10</td>\n",
       "      <td>25</td>\n",
       "      <td>False</td>\n",
       "      <td>0</td>\n",
       "      <td>...</td>\n",
       "      <td>0</td>\n",
       "      <td>0.5</td>\n",
       "      <td>0</td>\n",
       "      <td>0</td>\n",
       "      <td>0</td>\n",
       "      <td>0.5</td>\n",
       "      <td>0</td>\n",
       "      <td>0</td>\n",
       "      <td>0.0</td>\n",
       "      <td>5</td>\n",
       "    </tr>\n",
       "    <tr>\n",
       "      <th>2</th>\n",
       "      <td>0</td>\n",
       "      <td>UTA</td>\n",
       "      <td>POR</td>\n",
       "      <td>36887</td>\n",
       "      <td>1</td>\n",
       "      <td>0</td>\n",
       "      <td>10</td>\n",
       "      <td>25</td>\n",
       "      <td>False</td>\n",
       "      <td>0</td>\n",
       "      <td>...</td>\n",
       "      <td>0</td>\n",
       "      <td>0.5</td>\n",
       "      <td>0</td>\n",
       "      <td>0</td>\n",
       "      <td>0</td>\n",
       "      <td>0.5</td>\n",
       "      <td>0</td>\n",
       "      <td>0</td>\n",
       "      <td>0.0</td>\n",
       "      <td>0</td>\n",
       "    </tr>\n",
       "    <tr>\n",
       "      <th>3</th>\n",
       "      <td>0</td>\n",
       "      <td>BKN</td>\n",
       "      <td>BOS</td>\n",
       "      <td>21864</td>\n",
       "      <td>2</td>\n",
       "      <td>0</td>\n",
       "      <td>10</td>\n",
       "      <td>26</td>\n",
       "      <td>False</td>\n",
       "      <td>0</td>\n",
       "      <td>...</td>\n",
       "      <td>0</td>\n",
       "      <td>0.5</td>\n",
       "      <td>0</td>\n",
       "      <td>0</td>\n",
       "      <td>0</td>\n",
       "      <td>0.5</td>\n",
       "      <td>0</td>\n",
       "      <td>0</td>\n",
       "      <td>0.0</td>\n",
       "      <td>1</td>\n",
       "    </tr>\n",
       "    <tr>\n",
       "      <th>4</th>\n",
       "      <td>0</td>\n",
       "      <td>CHA</td>\n",
       "      <td>MIL</td>\n",
       "      <td>11085</td>\n",
       "      <td>2</td>\n",
       "      <td>0</td>\n",
       "      <td>10</td>\n",
       "      <td>26</td>\n",
       "      <td>False</td>\n",
       "      <td>0</td>\n",
       "      <td>...</td>\n",
       "      <td>0</td>\n",
       "      <td>0.5</td>\n",
       "      <td>0</td>\n",
       "      <td>0</td>\n",
       "      <td>0</td>\n",
       "      <td>0.5</td>\n",
       "      <td>0</td>\n",
       "      <td>0</td>\n",
       "      <td>0.0</td>\n",
       "      <td>2</td>\n",
       "    </tr>\n",
       "  </tbody>\n",
       "</table>\n",
       "<p>5 rows × 21 columns</p>\n",
       "</div>"
      ],
      "text/plain": [
       "   Season Away_Team Home_Team  Rounded_Viewers  dayofweek  is_weekend  month  \\\n",
       "0       0       NYK       CLE            51251          1           0     10   \n",
       "1       0       SAS       GSW            53525          1           0     10   \n",
       "2       0       UTA       POR            36887          1           0     10   \n",
       "3       0       BKN       BOS            21864          2           0     10   \n",
       "4       0       CHA       MIL            11085          2           0     10   \n",
       "\n",
       "   day  is_holiday  Wins_Entering_Gm_H       ...         n_games_H  win_pct_H  \\\n",
       "0   25       False                   0       ...                 0        0.5   \n",
       "1   25       False                   0       ...                 0        0.5   \n",
       "2   25       False                   0       ...                 0        0.5   \n",
       "3   26       False                   0       ...                 0        0.5   \n",
       "4   26       False                   0       ...                 0        0.5   \n",
       "\n",
       "   Wins_Entering_Gm_A  Losses_Entering_Gm_A  n_games_A  win_pct_A  win_diff  \\\n",
       "0                   0                     0          0        0.5         0   \n",
       "1                   0                     0          0        0.5         0   \n",
       "2                   0                     0          0        0.5         0   \n",
       "3                   0                     0          0        0.5         0   \n",
       "4                   0                     0          0        0.5         0   \n",
       "\n",
       "   loss_diff  win_pct_diff  active_allstars  \n",
       "0          0           0.0                4  \n",
       "1          0           0.0                5  \n",
       "2          0           0.0                0  \n",
       "3          0           0.0                1  \n",
       "4          0           0.0                2  \n",
       "\n",
       "[5 rows x 21 columns]"
      ]
     },
     "execution_count": 14,
     "metadata": {},
     "output_type": "execute_result"
    }
   ],
   "source": [
    "train_v3.head()"
   ]
  },
  {
   "cell_type": "code",
   "execution_count": 15,
   "metadata": {},
   "outputs": [],
   "source": [
    "le_home = LabelEncoder()\n",
    "le_away = LabelEncoder()\n",
    "train_v3.Home_Team = le_home.fit_transform(train_v3.Home_Team)\n",
    "train_v3.Away_Team = le_away.fit_transform(train_v3.Away_Team)"
   ]
  },
  {
   "cell_type": "code",
   "execution_count": 16,
   "metadata": {},
   "outputs": [
    {
     "data": {
      "text/html": [
       "<div>\n",
       "<style scoped>\n",
       "    .dataframe tbody tr th:only-of-type {\n",
       "        vertical-align: middle;\n",
       "    }\n",
       "\n",
       "    .dataframe tbody tr th {\n",
       "        vertical-align: top;\n",
       "    }\n",
       "\n",
       "    .dataframe thead th {\n",
       "        text-align: right;\n",
       "    }\n",
       "</style>\n",
       "<table border=\"1\" class=\"dataframe\">\n",
       "  <thead>\n",
       "    <tr style=\"text-align: right;\">\n",
       "      <th></th>\n",
       "      <th>0</th>\n",
       "      <th>1</th>\n",
       "      <th>2</th>\n",
       "    </tr>\n",
       "  </thead>\n",
       "  <tbody>\n",
       "    <tr>\n",
       "      <th>Season</th>\n",
       "      <td>0</td>\n",
       "      <td>0</td>\n",
       "      <td>0</td>\n",
       "    </tr>\n",
       "    <tr>\n",
       "      <th>Away_Team</th>\n",
       "      <td>19</td>\n",
       "      <td>26</td>\n",
       "      <td>28</td>\n",
       "    </tr>\n",
       "    <tr>\n",
       "      <th>Home_Team</th>\n",
       "      <td>5</td>\n",
       "      <td>9</td>\n",
       "      <td>24</td>\n",
       "    </tr>\n",
       "    <tr>\n",
       "      <th>Rounded_Viewers</th>\n",
       "      <td>51251</td>\n",
       "      <td>53525</td>\n",
       "      <td>36887</td>\n",
       "    </tr>\n",
       "    <tr>\n",
       "      <th>dayofweek</th>\n",
       "      <td>1</td>\n",
       "      <td>1</td>\n",
       "      <td>1</td>\n",
       "    </tr>\n",
       "    <tr>\n",
       "      <th>is_weekend</th>\n",
       "      <td>0</td>\n",
       "      <td>0</td>\n",
       "      <td>0</td>\n",
       "    </tr>\n",
       "    <tr>\n",
       "      <th>month</th>\n",
       "      <td>10</td>\n",
       "      <td>10</td>\n",
       "      <td>10</td>\n",
       "    </tr>\n",
       "    <tr>\n",
       "      <th>day</th>\n",
       "      <td>25</td>\n",
       "      <td>25</td>\n",
       "      <td>25</td>\n",
       "    </tr>\n",
       "    <tr>\n",
       "      <th>is_holiday</th>\n",
       "      <td>False</td>\n",
       "      <td>False</td>\n",
       "      <td>False</td>\n",
       "    </tr>\n",
       "    <tr>\n",
       "      <th>Wins_Entering_Gm_H</th>\n",
       "      <td>0</td>\n",
       "      <td>0</td>\n",
       "      <td>0</td>\n",
       "    </tr>\n",
       "    <tr>\n",
       "      <th>Losses_Entering_Gm_H</th>\n",
       "      <td>0</td>\n",
       "      <td>0</td>\n",
       "      <td>0</td>\n",
       "    </tr>\n",
       "    <tr>\n",
       "      <th>n_games_H</th>\n",
       "      <td>0</td>\n",
       "      <td>0</td>\n",
       "      <td>0</td>\n",
       "    </tr>\n",
       "    <tr>\n",
       "      <th>win_pct_H</th>\n",
       "      <td>0.5</td>\n",
       "      <td>0.5</td>\n",
       "      <td>0.5</td>\n",
       "    </tr>\n",
       "    <tr>\n",
       "      <th>Wins_Entering_Gm_A</th>\n",
       "      <td>0</td>\n",
       "      <td>0</td>\n",
       "      <td>0</td>\n",
       "    </tr>\n",
       "    <tr>\n",
       "      <th>Losses_Entering_Gm_A</th>\n",
       "      <td>0</td>\n",
       "      <td>0</td>\n",
       "      <td>0</td>\n",
       "    </tr>\n",
       "    <tr>\n",
       "      <th>n_games_A</th>\n",
       "      <td>0</td>\n",
       "      <td>0</td>\n",
       "      <td>0</td>\n",
       "    </tr>\n",
       "    <tr>\n",
       "      <th>win_pct_A</th>\n",
       "      <td>0.5</td>\n",
       "      <td>0.5</td>\n",
       "      <td>0.5</td>\n",
       "    </tr>\n",
       "    <tr>\n",
       "      <th>win_diff</th>\n",
       "      <td>0</td>\n",
       "      <td>0</td>\n",
       "      <td>0</td>\n",
       "    </tr>\n",
       "    <tr>\n",
       "      <th>loss_diff</th>\n",
       "      <td>0</td>\n",
       "      <td>0</td>\n",
       "      <td>0</td>\n",
       "    </tr>\n",
       "    <tr>\n",
       "      <th>win_pct_diff</th>\n",
       "      <td>0</td>\n",
       "      <td>0</td>\n",
       "      <td>0</td>\n",
       "    </tr>\n",
       "    <tr>\n",
       "      <th>active_allstars</th>\n",
       "      <td>4</td>\n",
       "      <td>5</td>\n",
       "      <td>0</td>\n",
       "    </tr>\n",
       "  </tbody>\n",
       "</table>\n",
       "</div>"
      ],
      "text/plain": [
       "                          0      1      2\n",
       "Season                    0      0      0\n",
       "Away_Team                19     26     28\n",
       "Home_Team                 5      9     24\n",
       "Rounded_Viewers       51251  53525  36887\n",
       "dayofweek                 1      1      1\n",
       "is_weekend                0      0      0\n",
       "month                    10     10     10\n",
       "day                      25     25     25\n",
       "is_holiday            False  False  False\n",
       "Wins_Entering_Gm_H        0      0      0\n",
       "Losses_Entering_Gm_H      0      0      0\n",
       "n_games_H                 0      0      0\n",
       "win_pct_H               0.5    0.5    0.5\n",
       "Wins_Entering_Gm_A        0      0      0\n",
       "Losses_Entering_Gm_A      0      0      0\n",
       "n_games_A                 0      0      0\n",
       "win_pct_A               0.5    0.5    0.5\n",
       "win_diff                  0      0      0\n",
       "loss_diff                 0      0      0\n",
       "win_pct_diff              0      0      0\n",
       "active_allstars           4      5      0"
      ]
     },
     "execution_count": 16,
     "metadata": {},
     "output_type": "execute_result"
    }
   ],
   "source": [
    "train_v3.head(3).transpose()\n",
    "# can drop Team_H, Team_A, Game_ID, and Game_Date\n",
    "# label encode home and away\n",
    "# what to do with Location_H and Location_A? drop?\n",
    "# apply same transformations to test set -- might be tough making it because it's all NaN's\n",
    "# no target encoding so don't need to worry about leaking into validation set\n",
    "# create validation set"
   ]
  },
  {
   "cell_type": "code",
   "execution_count": 17,
   "metadata": {},
   "outputs": [],
   "source": [
    "X = train_v3.drop('Rounded_Viewers', axis = 1)\n",
    "y = train_v3.Rounded_Viewers\n",
    "\n",
    "X_train, X_valid, y_train, y_valid = train_test_split(X, y, test_size = 500, random_state = 11)"
   ]
  },
  {
   "cell_type": "markdown",
   "metadata": {},
   "source": [
    "**Feature Engineering on Test Set**"
   ]
  },
  {
   "cell_type": "code",
   "execution_count": 18,
   "metadata": {},
   "outputs": [],
   "source": [
    "test.Game_Date = pd.to_datetime(test.Game_Date)\n",
    "test['dayofweek'] = test.Game_Date.dt.dayofweek\n",
    "test['is_weekend'] = test.dayofweek.apply(lambda x: 1 if x >= 4 else 0)\n",
    "test['month'] = test.Game_Date.dt.month\n",
    "test['day'] = test.Game_Date.dt.day\n",
    "test['is_holiday'] = test.Game_Date.isin(nba_holidays)\n",
    "test.Season = test.Season.apply(lambda x: 0 if x == '2016-17' else 1)\n",
    "\n",
    "test_v2 = test.merge(game_v2_flat, left_on = ['Game_ID', 'Away_Team', 'Home_Team'],\n",
    "               right_on = ['Game_ID', 'Team_A', 'Team_H']).merge(n_active_allstars, on = 'Game_ID')\n",
    "test_v2 = test_v2[test_v2.isnull().any(axis = 1)].reset_index(drop = True)\n",
    "test_v2.drop(['Team_H', 'Team_A', 'Game_ID', 'Game_Date', 'Location_H', 'Location_A'], inplace=True, axis=1)\n",
    "\n",
    "test_v2.Away_Team = le_away.transform(test_v2.Away_Team)\n",
    "test_v2.Home_Team = le_home.transform(test_v2.Home_Team)"
   ]
  },
  {
   "cell_type": "code",
   "execution_count": 19,
   "metadata": {},
   "outputs": [
    {
     "data": {
      "text/html": [
       "<div>\n",
       "<style scoped>\n",
       "    .dataframe tbody tr th:only-of-type {\n",
       "        vertical-align: middle;\n",
       "    }\n",
       "\n",
       "    .dataframe tbody tr th {\n",
       "        vertical-align: top;\n",
       "    }\n",
       "\n",
       "    .dataframe thead th {\n",
       "        text-align: right;\n",
       "    }\n",
       "</style>\n",
       "<table border=\"1\" class=\"dataframe\">\n",
       "  <thead>\n",
       "    <tr style=\"text-align: right;\">\n",
       "      <th></th>\n",
       "      <th>0</th>\n",
       "      <th>1</th>\n",
       "      <th>2</th>\n",
       "    </tr>\n",
       "  </thead>\n",
       "  <tbody>\n",
       "    <tr>\n",
       "      <th>Season</th>\n",
       "      <td>0</td>\n",
       "      <td>0</td>\n",
       "      <td>0</td>\n",
       "    </tr>\n",
       "    <tr>\n",
       "      <th>Away_Team</th>\n",
       "      <td>7</td>\n",
       "      <td>10</td>\n",
       "      <td>2</td>\n",
       "    </tr>\n",
       "    <tr>\n",
       "      <th>Home_Team</th>\n",
       "      <td>18</td>\n",
       "      <td>6</td>\n",
       "      <td>3</td>\n",
       "    </tr>\n",
       "    <tr>\n",
       "      <th>Total_Viewers</th>\n",
       "      <td>NaN</td>\n",
       "      <td>NaN</td>\n",
       "      <td>NaN</td>\n",
       "    </tr>\n",
       "    <tr>\n",
       "      <th>dayofweek</th>\n",
       "      <td>2</td>\n",
       "      <td>4</td>\n",
       "      <td>5</td>\n",
       "    </tr>\n",
       "    <tr>\n",
       "      <th>is_weekend</th>\n",
       "      <td>0</td>\n",
       "      <td>1</td>\n",
       "      <td>1</td>\n",
       "    </tr>\n",
       "    <tr>\n",
       "      <th>month</th>\n",
       "      <td>10</td>\n",
       "      <td>10</td>\n",
       "      <td>10</td>\n",
       "    </tr>\n",
       "    <tr>\n",
       "      <th>day</th>\n",
       "      <td>26</td>\n",
       "      <td>28</td>\n",
       "      <td>29</td>\n",
       "    </tr>\n",
       "    <tr>\n",
       "      <th>is_holiday</th>\n",
       "      <td>False</td>\n",
       "      <td>False</td>\n",
       "      <td>False</td>\n",
       "    </tr>\n",
       "    <tr>\n",
       "      <th>Wins_Entering_Gm_H</th>\n",
       "      <td>0</td>\n",
       "      <td>0</td>\n",
       "      <td>2</td>\n",
       "    </tr>\n",
       "    <tr>\n",
       "      <th>Losses_Entering_Gm_H</th>\n",
       "      <td>0</td>\n",
       "      <td>1</td>\n",
       "      <td>0</td>\n",
       "    </tr>\n",
       "    <tr>\n",
       "      <th>n_games_H</th>\n",
       "      <td>0</td>\n",
       "      <td>1</td>\n",
       "      <td>2</td>\n",
       "    </tr>\n",
       "    <tr>\n",
       "      <th>win_pct_H</th>\n",
       "      <td>0.5</td>\n",
       "      <td>0</td>\n",
       "      <td>1</td>\n",
       "    </tr>\n",
       "    <tr>\n",
       "      <th>Wins_Entering_Gm_A</th>\n",
       "      <td>0</td>\n",
       "      <td>0</td>\n",
       "      <td>1</td>\n",
       "    </tr>\n",
       "    <tr>\n",
       "      <th>Losses_Entering_Gm_A</th>\n",
       "      <td>0</td>\n",
       "      <td>1</td>\n",
       "      <td>1</td>\n",
       "    </tr>\n",
       "    <tr>\n",
       "      <th>n_games_A</th>\n",
       "      <td>0</td>\n",
       "      <td>1</td>\n",
       "      <td>2</td>\n",
       "    </tr>\n",
       "    <tr>\n",
       "      <th>win_pct_A</th>\n",
       "      <td>0.5</td>\n",
       "      <td>0</td>\n",
       "      <td>0.5</td>\n",
       "    </tr>\n",
       "    <tr>\n",
       "      <th>win_diff</th>\n",
       "      <td>0</td>\n",
       "      <td>0</td>\n",
       "      <td>1</td>\n",
       "    </tr>\n",
       "    <tr>\n",
       "      <th>loss_diff</th>\n",
       "      <td>0</td>\n",
       "      <td>0</td>\n",
       "      <td>-1</td>\n",
       "    </tr>\n",
       "    <tr>\n",
       "      <th>win_pct_diff</th>\n",
       "      <td>0</td>\n",
       "      <td>0</td>\n",
       "      <td>0.5</td>\n",
       "    </tr>\n",
       "    <tr>\n",
       "      <th>active_allstars</th>\n",
       "      <td>1</td>\n",
       "      <td>1</td>\n",
       "      <td>2</td>\n",
       "    </tr>\n",
       "  </tbody>\n",
       "</table>\n",
       "</div>"
      ],
      "text/plain": [
       "                          0      1      2\n",
       "Season                    0      0      0\n",
       "Away_Team                 7     10      2\n",
       "Home_Team                18      6      3\n",
       "Total_Viewers           NaN    NaN    NaN\n",
       "dayofweek                 2      4      5\n",
       "is_weekend                0      1      1\n",
       "month                    10     10     10\n",
       "day                      26     28     29\n",
       "is_holiday            False  False  False\n",
       "Wins_Entering_Gm_H        0      0      2\n",
       "Losses_Entering_Gm_H      0      1      0\n",
       "n_games_H                 0      1      2\n",
       "win_pct_H               0.5      0      1\n",
       "Wins_Entering_Gm_A        0      0      1\n",
       "Losses_Entering_Gm_A      0      1      1\n",
       "n_games_A                 0      1      2\n",
       "win_pct_A               0.5      0    0.5\n",
       "win_diff                  0      0      1\n",
       "loss_diff                 0      0     -1\n",
       "win_pct_diff              0      0    0.5\n",
       "active_allstars           1      1      2"
      ]
     },
     "execution_count": 19,
     "metadata": {},
     "output_type": "execute_result"
    }
   ],
   "source": [
    "test_v2.head(3).transpose()"
   ]
  },
  {
   "cell_type": "code",
   "execution_count": 20,
   "metadata": {},
   "outputs": [
    {
     "data": {
      "text/plain": [
       "((2000, 21), (460, 21))"
      ]
     },
     "execution_count": 20,
     "metadata": {},
     "output_type": "execute_result"
    }
   ],
   "source": [
    "train_v3.shape, test_v2.shape"
   ]
  },
  {
   "cell_type": "code",
   "execution_count": 21,
   "metadata": {},
   "outputs": [],
   "source": [
    "X_test = test_v2.drop('Total_Viewers', axis = 1)\n",
    "y_test = test_v2.Total_Viewers"
   ]
  },
  {
   "cell_type": "markdown",
   "metadata": {},
   "source": [
    "### Model Fitting Time!"
   ]
  },
  {
   "cell_type": "code",
   "execution_count": 22,
   "metadata": {},
   "outputs": [],
   "source": [
    "lr = LinearRegression(normalize = True)\n",
    "rfr = RandomForestRegressor(n_estimators=50, n_jobs=-1, random_state=42) # keep it fairly basic for now"
   ]
  },
  {
   "cell_type": "code",
   "execution_count": 23,
   "metadata": {},
   "outputs": [
    {
     "data": {
      "text/plain": [
       "49.670508863338995"
      ]
     },
     "execution_count": 23,
     "metadata": {},
     "output_type": "execute_result"
    }
   ],
   "source": [
    "lr.fit(X_train, y_train)\n",
    "lr_pred_val = lr.predict(X_valid)\n",
    "lr_pred_test = lr.predict(X_test)\n",
    "mean_absolute_percentage_error(y_valid, lr_pred_val)"
   ]
  },
  {
   "cell_type": "code",
   "execution_count": 24,
   "metadata": {},
   "outputs": [
    {
     "data": {
      "text/plain": [
       "40.25392280209501"
      ]
     },
     "execution_count": 24,
     "metadata": {},
     "output_type": "execute_result"
    }
   ],
   "source": [
    "rfr.fit(X_train, y_train)\n",
    "rfr_pred_val = rfr.predict(X_valid)\n",
    "mean_absolute_percentage_error(y_valid, rfr_pred_val)"
   ]
  },
  {
   "cell_type": "code",
   "execution_count": 25,
   "metadata": {},
   "outputs": [
    {
     "data": {
      "image/png": "[encoded data removed]",
      "text/plain": [
       "<Figure size 432x288 with 1 Axes>"
      ]
     },
     "metadata": {},
     "output_type": "display_data"
    }
   ],
   "source": [
    "imp = rfpimp.importances(rfr, X_valid, y_valid)\n",
    "rfpimp.plot_importances(imp)"
   ]
  },
  {
   "cell_type": "code",
   "execution_count": 27,
   "metadata": {},
   "outputs": [
    {
     "data": {
      "text/plain": [
       "Index(['Losses_Entering_Gm_H', 'Home_Team', 'win_pct_H', 'win_pct_A',\n",
       "       'Away_Team', 'Losses_Entering_Gm_A', 'active_allstars'],\n",
       "      dtype='object', name='Feature')"
      ]
     },
     "execution_count": 27,
     "metadata": {},
     "output_type": "execute_result"
    }
   ],
   "source": [
    "rfr_keep = imp[imp.Importance > 0.02].index\n",
    "rfr_keep"
   ]
  },
  {
   "cell_type": "code",
   "execution_count": 28,
   "metadata": {},
   "outputs": [],
   "source": [
    "X_tr_rfr = X_train[rfr_keep]\n",
    "X_val_rfr = X_valid[rfr_keep]"
   ]
  },
  {
   "cell_type": "code",
   "execution_count": 29,
   "metadata": {},
   "outputs": [
    {
     "data": {
      "text/plain": [
       "38.910321478027484"
      ]
     },
     "execution_count": 29,
     "metadata": {},
     "output_type": "execute_result"
    }
   ],
   "source": [
    "rfr.fit(X_tr_rfr, y_train)\n",
    "rfr_pred_val2 = rfr.predict(X_val_rfr)\n",
    "mean_absolute_percentage_error(y_valid, rfr_pred_val2)"
   ]
  },
  {
   "cell_type": "markdown",
   "metadata": {},
   "source": [
    "#### Attempting LightGBM\n",
    "Data may be too small and get overfit by a GBM"
   ]
  },
  {
   "cell_type": "code",
   "execution_count": 40,
   "metadata": {},
   "outputs": [],
   "source": [
    "d_train_lgb = lgb.Dataset(X_train, y_train)\n",
    "d_valid_lgb = lgb.Dataset(X_valid, y_valid)"
   ]
  },
  {
   "cell_type": "code",
   "execution_count": 84,
   "metadata": {},
   "outputs": [],
   "source": [
    "lgbr = lgb.LGBMRegressor(n_jobs=-1, n_estimators=50, random_state = 42, colsample_bytree=0.5, max_depth = 5)"
   ]
  },
  {
   "cell_type": "code",
   "execution_count": 85,
   "metadata": {},
   "outputs": [
    {
     "data": {
      "text/plain": [
       "LGBMRegressor(boosting_type='gbdt', class_weight=None, colsample_bytree=0.5,\n",
       "       learning_rate=0.1, max_depth=5, min_child_samples=20,\n",
       "       min_child_weight=0.001, min_split_gain=0.0, n_estimators=50,\n",
       "       n_jobs=-1, num_leaves=31, objective=None, random_state=42,\n",
       "       reg_alpha=0.0, reg_lambda=0.0, silent=True, subsample=1.0,\n",
       "       subsample_for_bin=200000, subsample_freq=0)"
      ]
     },
     "execution_count": 85,
     "metadata": {},
     "output_type": "execute_result"
    }
   ],
   "source": [
    "lgbr.fit(X_train, y_train)"
   ]
  },
  {
   "cell_type": "code",
   "execution_count": 86,
   "metadata": {},
   "outputs": [
    {
     "data": {
      "text/plain": [
       "36.585574487303724"
      ]
     },
     "execution_count": 86,
     "metadata": {},
     "output_type": "execute_result"
    }
   ],
   "source": [
    "lgbr_pred_val = lgbr.predict(X_valid)\n",
    "mean_absolute_percentage_error(y_valid, lgbr_pred_val)"
   ]
  },
  {
   "cell_type": "code",
   "execution_count": 114,
   "metadata": {},
   "outputs": [
    {
     "data": {
      "text/plain": [
       "array([False,  True,  True,  True, False, False, False, False, False,\n",
       "        True, False,  True, False,  True, False,  True, False, False,\n",
       "       False,  True])"
      ]
     },
     "execution_count": 114,
     "metadata": {},
     "output_type": "execute_result"
    }
   ],
   "source": [
    "((lgbr.feature_importances_/lgbr.feature_importances_.sum()) > 0.05)"
   ]
  },
  {
   "cell_type": "code",
   "execution_count": 116,
   "metadata": {},
   "outputs": [
    {
     "data": {
      "text/plain": [
       "37.73504529636949"
      ]
     },
     "execution_count": 116,
     "metadata": {},
     "output_type": "execute_result"
    }
   ],
   "source": [
    "lgb_keep = ['Away_Team', 'Home_Team', 'dayofweek', 'Losses_Entering_Gm_H',\n",
    "            'win_pct_H', 'Losses_Entering_Gm_A', 'win_pct_A', 'active_allstars']\n",
    "lgbr.fit(X_train[lgb_keep], y_train)\n",
    "lgbr_pred_val2 = lgbr.predict(X_valid[lgb_keep])\n",
    "mean_absolute_percentage_error(y_valid, lgbr_pred_val2)"
   ]
  },
  {
   "cell_type": "markdown",
   "metadata": {},
   "source": [
    "Keeping all of the columns adds information."
   ]
  },
  {
   "cell_type": "markdown",
   "metadata": {},
   "source": [
    "### Writing out the Test File"
   ]
  },
  {
   "cell_type": "code",
   "execution_count": 120,
   "metadata": {},
   "outputs": [],
   "source": [
    "rfr_pred_test = rfr.predict(X_test[rfr_keep])\n",
    "test_with_pred = test.drop(['dayofweek', 'is_weekend', 'month', 'day', 'is_holiday'], axis = 1).copy()\n",
    "# change season back:\n",
    "test_with_pred.Season = test_with_pred.Season.apply(lambda x: '2016-17' if x == 0 else '2017-18')\n",
    "test_with_pred.Total_Viewers = rfr_pred_test"
   ]
  },
  {
   "cell_type": "code",
   "execution_count": 121,
   "metadata": {},
   "outputs": [
    {
     "data": {
      "text/html": [
       "<div>\n",
       "<style scoped>\n",
       "    .dataframe tbody tr th:only-of-type {\n",
       "        vertical-align: middle;\n",
       "    }\n",
       "\n",
       "    .dataframe tbody tr th {\n",
       "        vertical-align: top;\n",
       "    }\n",
       "\n",
       "    .dataframe thead th {\n",
       "        text-align: right;\n",
       "    }\n",
       "</style>\n",
       "<table border=\"1\" class=\"dataframe\">\n",
       "  <thead>\n",
       "    <tr style=\"text-align: right;\">\n",
       "      <th></th>\n",
       "      <th>Season</th>\n",
       "      <th>Game_ID</th>\n",
       "      <th>Game_Date</th>\n",
       "      <th>Away_Team</th>\n",
       "      <th>Home_Team</th>\n",
       "      <th>Total_Viewers</th>\n",
       "    </tr>\n",
       "  </thead>\n",
       "  <tbody>\n",
       "    <tr>\n",
       "      <th>0</th>\n",
       "      <td>2016-17</td>\n",
       "      <td>21600010</td>\n",
       "      <td>2016-10-26</td>\n",
       "      <td>DEN</td>\n",
       "      <td>NOP</td>\n",
       "      <td>23441.18</td>\n",
       "    </tr>\n",
       "    <tr>\n",
       "      <th>1</th>\n",
       "      <td>2016-17</td>\n",
       "      <td>21600023</td>\n",
       "      <td>2016-10-28</td>\n",
       "      <td>HOU</td>\n",
       "      <td>DAL</td>\n",
       "      <td>16393.82</td>\n",
       "    </tr>\n",
       "    <tr>\n",
       "      <th>2</th>\n",
       "      <td>2016-17</td>\n",
       "      <td>21600027</td>\n",
       "      <td>2016-10-29</td>\n",
       "      <td>BOS</td>\n",
       "      <td>CHA</td>\n",
       "      <td>23443.06</td>\n",
       "    </tr>\n",
       "    <tr>\n",
       "      <th>3</th>\n",
       "      <td>2016-17</td>\n",
       "      <td>21600026</td>\n",
       "      <td>2016-10-29</td>\n",
       "      <td>ATL</td>\n",
       "      <td>PHI</td>\n",
       "      <td>21893.44</td>\n",
       "    </tr>\n",
       "    <tr>\n",
       "      <th>4</th>\n",
       "      <td>2016-17</td>\n",
       "      <td>21600048</td>\n",
       "      <td>2016-11-01</td>\n",
       "      <td>LAL</td>\n",
       "      <td>IND</td>\n",
       "      <td>16572.44</td>\n",
       "    </tr>\n",
       "  </tbody>\n",
       "</table>\n",
       "</div>"
      ],
      "text/plain": [
       "    Season   Game_ID  Game_Date Away_Team Home_Team  Total_Viewers\n",
       "0  2016-17  21600010 2016-10-26       DEN       NOP       23441.18\n",
       "1  2016-17  21600023 2016-10-28       HOU       DAL       16393.82\n",
       "2  2016-17  21600027 2016-10-29       BOS       CHA       23443.06\n",
       "3  2016-17  21600026 2016-10-29       ATL       PHI       21893.44\n",
       "4  2016-17  21600048 2016-11-01       LAL       IND       16572.44"
      ]
     },
     "execution_count": 121,
     "metadata": {},
     "output_type": "execute_result"
    }
   ],
   "source": [
    "test_with_pred.head()"
   ]
  },
  {
   "cell_type": "code",
   "execution_count": 122,
   "metadata": {},
   "outputs": [],
   "source": [
    "test_with_pred.to_csv('test_set_Higgins_Ford.csv')"
   ]
  },
  {
   "cell_type": "markdown",
   "metadata": {},
   "source": [
    "<p>I opted to use the results from the Random Forest since they are less prone to overfitting than GBMs, and considering the size of the dataset, this could certainly be an issue. The final columns that were used in the model were `Losses_Entering_Gm_H`, `Home_Team`, `win_pct_H`, `win_pct_A`, `Away_Team`, `Losses_Entering_Gm_A`, and `active_allstars`, with `active_allstars` dominating the feature importances. This intuitively makes sense as people tune in to watch the best players play, though some of the other results are not as straightforward. It is curious that losses show up as important, but wins do not, and that each feature shows up as important for both the home and away teams. </p>\n",
    "\n",
    "<p>Future iterations could include outside data, which I did not have the time to really research and incorporate into my model building. Trying different numbers of countries to include in the model, different encodings for both the teams and dates, and adding 'holidays' for games before and after the All Star Game and Trade Deadline could all be interesting features. Utilizing target encoding could also improve the predictiveness of the model. It would be interesting to know if the LightGBM model actually does overfit the test data, too. Other validation sets could be tried, too.</p>"
   ]
  },
  {
   "cell_type": "code",
   "execution_count": null,
   "metadata": {},
   "outputs": [],
   "source": []
  }
 ],
 "metadata": {
  "kernelspec": {
   "display_name": "Python 3",
   "language": "python",
   "name": "python3"
  },
  "language_info": {
   "codemirror_mode": {
    "name": "ipython",
    "version": 3
   },
   "file_extension": ".py",
   "mimetype": "text/x-python",
   "name": "python",
   "nbconvert_exporter": "python",
   "pygments_lexer": "ipython3",
   "version": "3.6.5"
  }
 },
 "nbformat": 4,
 "nbformat_minor": 2
}
